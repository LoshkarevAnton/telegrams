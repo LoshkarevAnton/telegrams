{
  "nbformat": 4,
  "nbformat_minor": 0,
  "metadata": {
    "colab": {
      "name": "represent_test",
      "provenance": [],
      "collapsed_sections": [],
      "authorship_tag": "ABX9TyNu+JgV5FpsBWXhjU+gsCZ4",
      "include_colab_link": true
    },
    "kernelspec": {
      "name": "python3",
      "display_name": "Python 3"
    },
    "language_info": {
      "name": "python"
    }
  },
  "cells": [
    {
      "cell_type": "markdown",
      "metadata": {
        "id": "view-in-github",
        "colab_type": "text"
      },
      "source": [
        "<a href=\"https://colab.research.google.com/github/marinanastas/telegrams/blob/main/code/represent_test.ipynb\" target=\"_parent\"><img src=\"https://colab.research.google.com/assets/colab-badge.svg\" alt=\"Open In Colab\"/></a>"
      ]
    },
    {
      "cell_type": "markdown",
      "source": [
        "# С помощью данного кода мы проверяем репрезантативность маленького датасета относительно большого"
      ],
      "metadata": {
        "id": "aFJU7KaSNW9d"
      }
    },
    {
      "cell_type": "markdown",
      "source": [
        "## Загружаем большой датасет"
      ],
      "metadata": {
        "id": "kE4QebhpNcfW"
      }
    },
    {
      "cell_type": "code",
      "execution_count": null,
      "metadata": {
        "colab": {
          "base_uri": "https://localhost:8080/"
        },
        "id": "qatAbwR-D3QI",
        "outputId": "8d70ad21-53c9-4e7e-dcf6-ac23e1c6492c"
      },
      "outputs": [
        {
          "output_type": "stream",
          "name": "stdout",
          "text": [
            "Mounted at /content/drive\n"
          ]
        }
      ],
      "source": [
        "from google.colab import drive\n",
        "drive.mount('/content/drive')"
      ]
    },
    {
      "cell_type": "code",
      "source": [
        "import pandas as pd"
      ],
      "metadata": {
        "id": "yyO06LLhbaZw"
      },
      "execution_count": null,
      "outputs": []
    },
    {
      "cell_type": "code",
      "source": [
        "fname = '/content/drive/MyDrive/___МАГИСТРАТУРА/телеграммы/TELEGRAMMA/python/telegrams_alldates.xlsx'\n",
        "df = pd.read_excel(fname)"
      ],
      "metadata": {
        "id": "vllLPs1WZ2hZ"
      },
      "execution_count": null,
      "outputs": []
    },
    {
      "cell_type": "markdown",
      "source": [
        "## Присваиваем каждой телеграмме год отправки и по нему определяем эпоху"
      ],
      "metadata": {
        "id": "RWVQmcHHXWm2"
      }
    },
    {
      "cell_type": "code",
      "source": [
        "cccp = {(1917, 1922):'Ленин', \n",
        "    (1923, 1940):'Сталин до войны',\n",
        "    (1941, 1952):'Сталин после войны',\n",
        "    (1953, 1964):'Оттепель',\n",
        "    (1965, 1985):'Период застоя',\n",
        "    (1986, 1991):'Перестройка'}"
      ],
      "metadata": {
        "id": "okdLmN7ul5vK"
      },
      "execution_count": null,
      "outputs": []
    },
    {
      "cell_type": "code",
      "source": [
        "def hist_assignment(date):\n",
        "  period = ''\n",
        "  year = ''\n",
        "  if len(date.split('.')) !=3:\n",
        "    period = '5_Не определено'\n",
        "  else:\n",
        "    year = date.split('.')[2]\n",
        "    try: \n",
        "      int(year)\n",
        "    except ValueError:\n",
        "      period = '5_Не определено'\n",
        "    if period == '':\n",
        "      if int(year) > 1991:\n",
        "        period = '4_РФ'\n",
        "      elif int(year) > 1945:\n",
        "        period = '3_СССР после войны'\n",
        "      elif int(year) > 1917:\n",
        "        period = '2_СССР до войны'\n",
        "      else:\n",
        "        period = \"1_РИ\"\n",
        "    return period"
      ],
      "metadata": {
        "id": "9OhFlLUcbqg2"
      },
      "execution_count": null,
      "outputs": []
    },
    {
      "cell_type": "code",
      "source": [
        "df['Исторический_период'] = df['date'].apply(hist_assignment) \n",
        "barplot = df['Исторический_период'].groupby(df['Исторический_период']).count()"
      ],
      "metadata": {
        "id": "P8rZDWLtcPH2"
      },
      "execution_count": null,
      "outputs": []
    },
    {
      "cell_type": "markdown",
      "source": [
        "## Повторяем те же действия с датасетом поменбше"
      ],
      "metadata": {
        "id": "twpo8LkAXjWe"
      }
    },
    {
      "cell_type": "code",
      "source": [
        "fname = '/content/drive/MyDrive/___МАГИСТРАТУРА/телеграммы/TELEGRAMMA/python/БД все телеграммы_1.xlsx'\n",
        "df_1 = pd.read_excel(fname)"
      ],
      "metadata": {
        "id": "sN5XGTHBRMrT"
      },
      "execution_count": null,
      "outputs": []
    },
    {
      "cell_type": "code",
      "source": [
        "df['Исторический_период_1'] = df_1['date'].apply(hist_assignment)\n",
        "barplot1 = df['Исторический_период_1'].groupby(df['Исторический_период_1']).count()"
      ],
      "metadata": {
        "id": "_1BiLqQyIoTK"
      },
      "execution_count": null,
      "outputs": []
    },
    {
      "cell_type": "markdown",
      "source": [
        "## Графики: большой датасет, маленький датасет, соотношение между маленьким и большим"
      ],
      "metadata": {
        "id": "MMa_aAsRXuEH"
      }
    },
    {
      "cell_type": "code",
      "source": [
        "import matplotlib as mpl\n",
        "import matplotlib.pyplot as plt"
      ],
      "metadata": {
        "id": "But8-qE8i74Z"
      },
      "execution_count": null,
      "outputs": []
    },
    {
      "cell_type": "code",
      "source": [
        "barplot.index\n",
        "barplot"
      ],
      "metadata": {
        "colab": {
          "base_uri": "https://localhost:8080/"
        },
        "id": "YrUfd8ILbeeS",
        "outputId": "9452c469-6b4d-49f9-9ff0-4f5a407c90dc"
      },
      "execution_count": null,
      "outputs": [
        {
          "output_type": "execute_result",
          "data": {
            "text/plain": [
              "Исторический_период\n",
              "1_РИ                   9558\n",
              "2_СССР до войны       13079\n",
              "3_СССР после войны    50405\n",
              "4_РФ                   3896\n",
              "5_Не определено       16307\n",
              "Name: Исторический_период, dtype: int64"
            ]
          },
          "metadata": {},
          "execution_count": 11
        }
      ]
    },
    {
      "cell_type": "code",
      "source": [
        "plt.get_cmap(\"viridis\")\n",
        "plt.rcParams[\"figure.figsize\"] = (10,5.5)\n",
        "X = barplot.index\n",
        "Y = barplot\n",
        "fig, ax = plt.subplots()\n",
        "ax.bar(X,Y, width = 0.5)\n",
        "ax.set_title('Общие данные')\n",
        "fig.show()\n",
        "plt.savefig('/content/drive/MyDrive/___МАГИСТРАТУРА/телеграммы/TELEGRAMMA/python/general_data')"
      ],
      "metadata": {
        "colab": {
          "base_uri": "https://localhost:8080/",
          "height": 364
        },
        "id": "wwx6j1pRbM0B",
        "outputId": "cd500632-dad9-4aaf-d6c5-8fec99e46fdb"
      },
      "execution_count": null,
      "outputs": [
        {
          "output_type": "display_data",
          "data": {
            "text/plain": [
              "<Figure size 720x396 with 1 Axes>"
            ],
            "image/png": "[encoded data removed]"
          },
          "metadata": {
            "needs_background": "light"
          }
        }
      ]
    },
    {
      "cell_type": "code",
      "source": [
        "plt.get_cmap(\"viridis\")\n",
        "plt.rcParams[\"figure.figsize\"] = (10,5.5)\n",
        "X = barplot1.index\n",
        "Y = barplot1\n",
        "fig, ax = plt.subplots()\n",
        "ax.bar(X,Y, width = 0.5, color = '#008080')\n",
        "ax.set_title('Данные нашей выборки')\n",
        "fig.show()\n",
        "plt.savefig('/content/drive/MyDrive/___МАГИСТРАТУРА/телеграммы/TELEGRAMMA/python/local_data')"
      ],
      "metadata": {
        "id": "BiM6fgYPdyra",
        "colab": {
          "base_uri": "https://localhost:8080/",
          "height": 364
        },
        "outputId": "3c92147f-f0e7-4451-e49a-b2f5d3eb23e6"
      },
      "execution_count": null,
      "outputs": [
        {
          "output_type": "display_data",
          "data": {
            "text/plain": [
              "<Figure size 720x396 with 1 Axes>"
            ],
            "image/png": "[encoded data removed]"
          },
          "metadata": {
            "needs_background": "light"
          }
        }
      ]
    },
    {
      "cell_type": "code",
      "source": [
        "new_data= pd.concat([barplot, barplot1], axis=1)\n",
        "new_data['Разность'] = new_data['Исторический_период'] - new_data['Исторический_период_1']\n",
        "new_data"
      ],
      "metadata": {
        "id": "WZ4YB9-TjIbO",
        "colab": {
          "base_uri": "https://localhost:8080/",
          "height": 206
        },
        "outputId": "0fbadffe-c813-44a1-bef2-491834080bd6"
      },
      "execution_count": null,
      "outputs": [
        {
          "output_type": "execute_result",
          "data": {
            "text/plain": [
              "                    Исторический_период  Исторический_период_1  Разность\n",
              "1_РИ                               9558                     79      9479\n",
              "2_СССР до войны                   13079                    309     12770\n",
              "3_СССР после войны                50405                    502     49903\n",
              "4_РФ                               3896                     34      3862\n",
              "5_Не определено                   16307                    119     16188"
            ],
            "text/html": [
              "\n",
              "  <div id=\"df-b73dcd02-4400-4a72-b36a-2cfecf7eb89e\">\n",
              "    <div class=\"colab-df-container\">\n",
              "      <div>\n",
              "<style scoped>\n",
              "    .dataframe tbody tr th:only-of-type {\n",
              "        vertical-align: middle;\n",
              "    }\n",
              "\n",
              "    .dataframe tbody tr th {\n",
              "        vertical-align: top;\n",
              "    }\n",
              "\n",
              "    .dataframe thead th {\n",
              "        text-align: right;\n",
              "    }\n",
              "</style>\n",
              "<table border=\"1\" class=\"dataframe\">\n",
              "  <thead>\n",
              "    <tr style=\"text-align: right;\">\n",
              "      <th></th>\n",
              "      <th>Исторический_период</th>\n",
              "      <th>Исторический_период_1</th>\n",
              "      <th>Разность</th>\n",
              "    </tr>\n",
              "  </thead>\n",
              "  <tbody>\n",
              "    <tr>\n",
              "      <th>1_РИ</th>\n",
              "      <td>9558</td>\n",
              "      <td>79</td>\n",
              "      <td>9479</td>\n",
              "    </tr>\n",
              "    <tr>\n",
              "      <th>2_СССР до войны</th>\n",
              "      <td>13079</td>\n",
              "      <td>309</td>\n",
              "      <td>12770</td>\n",
              "    </tr>\n",
              "    <tr>\n",
              "      <th>3_СССР после войны</th>\n",
              "      <td>50405</td>\n",
              "      <td>502</td>\n",
              "      <td>49903</td>\n",
              "    </tr>\n",
              "    <tr>\n",
              "      <th>4_РФ</th>\n",
              "      <td>3896</td>\n",
              "      <td>34</td>\n",
              "      <td>3862</td>\n",
              "    </tr>\n",
              "    <tr>\n",
              "      <th>5_Не определено</th>\n",
              "      <td>16307</td>\n",
              "      <td>119</td>\n",
              "      <td>16188</td>\n",
              "    </tr>\n",
              "  </tbody>\n",
              "</table>\n",
              "</div>\n",
              "      <button class=\"colab-df-convert\" onclick=\"convertToInteractive('df-b73dcd02-4400-4a72-b36a-2cfecf7eb89e')\"\n",
              "              title=\"Convert this dataframe to an interactive table.\"\n",
              "              style=\"display:none;\">\n",
              "        \n",
              "  <svg xmlns=\"http://www.w3.org/2000/svg\" height=\"24px\"viewBox=\"0 0 24 24\"\n",
              "       width=\"24px\">\n",
              "    <path d=\"M0 0h24v24H0V0z\" fill=\"none\"/>\n",
              "    <path d=\"M18.56 5.44l.94 2.06.94-2.06 2.06-.94-2.06-.94-.94-2.06-.94 2.06-2.06.94zm-11 1L8.5 8.5l.94-2.06 2.06-.94-2.06-.94L8.5 2.5l-.94 2.06-2.06.94zm10 10l.94 2.06.94-2.06 2.06-.94-2.06-.94-.94-2.06-.94 2.06-2.06.94z\"/><path d=\"M17.41 7.96l-1.37-1.37c-.4-.4-.92-.59-1.43-.59-.52 0-1.04.2-1.43.59L10.3 9.45l-7.72 7.72c-.78.78-.78 2.05 0 2.83L4 21.41c.39.39.9.59 1.41.59.51 0 1.02-.2 1.41-.59l7.78-7.78 2.81-2.81c.8-.78.8-2.07 0-2.86zM5.41 20L4 18.59l7.72-7.72 1.47 1.35L5.41 20z\"/>\n",
              "  </svg>\n",
              "      </button>\n",
              "      \n",
              "  <style>\n",
              "    .colab-df-container {\n",
              "      display:flex;\n",
              "      flex-wrap:wrap;\n",
              "      gap: 12px;\n",
              "    }\n",
              "\n",
              "    .colab-df-convert {\n",
              "      background-color: #E8F0FE;\n",
              "      border: none;\n",
              "      border-radius: 50%;\n",
              "      cursor: pointer;\n",
              "      display: none;\n",
              "      fill: #1967D2;\n",
              "      height: 32px;\n",
              "      padding: 0 0 0 0;\n",
              "      width: 32px;\n",
              "    }\n",
              "\n",
              "    .colab-df-convert:hover {\n",
              "      background-color: #E2EBFA;\n",
              "      box-shadow: 0px 1px 2px rgba(60, 64, 67, 0.3), 0px 1px 3px 1px rgba(60, 64, 67, 0.15);\n",
              "      fill: #174EA6;\n",
              "    }\n",
              "\n",
              "    [theme=dark] .colab-df-convert {\n",
              "      background-color: #3B4455;\n",
              "      fill: #D2E3FC;\n",
              "    }\n",
              "\n",
              "    [theme=dark] .colab-df-convert:hover {\n",
              "      background-color: #434B5C;\n",
              "      box-shadow: 0px 1px 3px 1px rgba(0, 0, 0, 0.15);\n",
              "      filter: drop-shadow(0px 1px 2px rgba(0, 0, 0, 0.3));\n",
              "      fill: #FFFFFF;\n",
              "    }\n",
              "  </style>\n",
              "\n",
              "      <script>\n",
              "        const buttonEl =\n",
              "          document.querySelector('#df-b73dcd02-4400-4a72-b36a-2cfecf7eb89e button.colab-df-convert');\n",
              "        buttonEl.style.display =\n",
              "          google.colab.kernel.accessAllowed ? 'block' : 'none';\n",
              "\n",
              "        async function convertToInteractive(key) {\n",
              "          const element = document.querySelector('#df-b73dcd02-4400-4a72-b36a-2cfecf7eb89e');\n",
              "          const dataTable =\n",
              "            await google.colab.kernel.invokeFunction('convertToInteractive',\n",
              "                                                     [key], {});\n",
              "          if (!dataTable) return;\n",
              "\n",
              "          const docLinkHtml = 'Like what you see? Visit the ' +\n",
              "            '<a target=\"_blank\" href=https://colab.research.google.com/notebooks/data_table.ipynb>data table notebook</a>'\n",
              "            + ' to learn more about interactive tables.';\n",
              "          element.innerHTML = '';\n",
              "          dataTable['output_type'] = 'display_data';\n",
              "          await google.colab.output.renderOutput(dataTable, element);\n",
              "          const docLink = document.createElement('div');\n",
              "          docLink.innerHTML = docLinkHtml;\n",
              "          element.appendChild(docLink);\n",
              "        }\n",
              "      </script>\n",
              "    </div>\n",
              "  </div>\n",
              "  "
            ]
          },
          "metadata": {},
          "execution_count": 14
        }
      ]
    },
    {
      "cell_type": "code",
      "source": [
        "fig, ax = plt.subplots()\n",
        "width = 0.5\n",
        "\n",
        "ax.bar(new_data.index, new_data['Разность'], width, label='Остальное', color = '#bbddff')\n",
        "ax.bar(new_data.index, new_data['Исторический_период_1'], width, bottom=new_data['Разность'],\n",
        "       label='Наша выборка', color = '#008080')\n",
        "\n",
        "ax.set_ylabel('Количество телеграмм')\n",
        "ax.set_title('Общие данные')\n",
        "ax.legend()\n",
        "\n",
        "fig.show()\n",
        "plt.savefig('/content/drive/MyDrive/___МАГИСТРАТУРА/телеграммы/TELEGRAMMA/python/data_comparison')"
      ],
      "metadata": {
        "id": "RlRrarKjkcj3",
        "colab": {
          "base_uri": "https://localhost:8080/",
          "height": 364
        },
        "outputId": "42968ee0-1cd1-4894-ea61-6b9ac398dad1"
      },
      "execution_count": null,
      "outputs": [
        {
          "output_type": "display_data",
          "data": {
            "text/plain": [
              "<Figure size 720x396 with 1 Axes>"
            ],
            "image/png": "[encoded data removed]"
          },
          "metadata": {
            "needs_background": "light"
          }
        }
      ]
    }
  ]
}