{
  "nbformat": 4,
  "nbformat_minor": 0,
  "metadata": {
    "colab": {
      "name": "decades_topics",
      "provenance": [],
      "collapsed_sections": [],
      "authorship_tag": "ABX9TyNMvIk1LLWeV5GbHZiVbjI3",
      "include_colab_link": true
    },
    "kernelspec": {
      "name": "python3",
      "display_name": "Python 3"
    },
    "language_info": {
      "name": "python"
    }
  },
  "cells": [
    {
      "cell_type": "markdown",
      "metadata": {
        "id": "view-in-github",
        "colab_type": "text"
      },
      "source": [
        "<a href=\"https://colab.research.google.com/github/marinanastas/telegrams/blob/main/code/decades_topics.ipynb\" target=\"_parent\"><img src=\"https://colab.research.google.com/assets/colab-badge.svg\" alt=\"Open In Colab\"/></a>"
      ]
    },
    {
      "cell_type": "markdown",
      "source": [
        "# Данный код использовался для исследования упоминаний разных тем в разные десятилетия."
      ],
      "metadata": {
        "id": "nQ7C38TnKBgK"
      }
    },
    {
      "cell_type": "markdown",
      "source": [
        "## Подготовка и загрузка данных"
      ],
      "metadata": {
        "id": "ncWztP58KvqT"
      }
    },
    {
      "cell_type": "code",
      "execution_count": null,
      "metadata": {
        "colab": {
          "base_uri": "https://localhost:8080/"
        },
        "id": "qatAbwR-D3QI",
        "outputId": "df14c041-04ec-4a1e-e994-2ea0b9c79e33"
      },
      "outputs": [
        {
          "output_type": "stream",
          "name": "stdout",
          "text": [
            "Mounted at /content/drive\n"
          ]
        }
      ],
      "source": [
        "from google.colab import drive\n",
        "drive.mount('/content/drive')"
      ]
    },
    {
      "cell_type": "code",
      "source": [
        "import pandas as pd\n",
        "import re"
      ],
      "metadata": {
        "id": "yyO06LLhbaZw"
      },
      "execution_count": null,
      "outputs": []
    },
    {
      "cell_type": "code",
      "source": [
        "fname = '/content/drive/MyDrive/___МАГИСТРАТУРА/телеграммы/TELEGRAMMA/python/БД все телеграммы_1.xlsx'\n",
        "df = pd.read_excel(fname)"
      ],
      "metadata": {
        "id": "vllLPs1WZ2hZ"
      },
      "execution_count": null,
      "outputs": []
    },
    {
      "cell_type": "markdown",
      "source": [
        "## Функции для очистки данных от нетекстовых значений и определения десятилетия исходя из года, а также их применение "
      ],
      "metadata": {
        "id": "K8lqXQYbKz0a"
      }
    },
    {
      "cell_type": "code",
      "source": [
        "def decade(date):\n",
        "  if len(date.split('.')) !=3:\n",
        "      year = 'xxxx'\n",
        "  else:\n",
        "      year = date.split('.')[2][:3]\n",
        "  return year"
      ],
      "metadata": {
        "id": "_1BiLqQyIoTK"
      },
      "execution_count": null,
      "outputs": []
    },
    {
      "cell_type": "code",
      "source": [
        "def nonans(t):\n",
        "  if type(t) is float:\n",
        "    t = 'нет данных'\n",
        "  return t"
      ],
      "metadata": {
        "id": "8cOe7elQFH_R"
      },
      "execution_count": null,
      "outputs": []
    },
    {
      "cell_type": "code",
      "source": [
        "df['decade'] = df['date'].apply(decade)"
      ],
      "metadata": {
        "id": "jRa7xQ4xALUC"
      },
      "execution_count": null,
      "outputs": []
    },
    {
      "cell_type": "code",
      "source": [
        "decthem = df[['decade', 'theme']]\n",
        "decthem['theme_corr'] = decthem['theme'].apply(nonans)\n",
        "themes = decthem['theme_corr']"
      ],
      "metadata": {
        "colab": {
          "base_uri": "https://localhost:8080/"
        },
        "id": "YrUfd8ILbeeS",
        "outputId": "2bb1cdb7-0592-40d0-9c25-047222b58c46"
      },
      "execution_count": null,
      "outputs": [
        {
          "output_type": "stream",
          "name": "stderr",
          "text": [
            "/usr/local/lib/python3.7/dist-packages/ipykernel_launcher.py:2: SettingWithCopyWarning: \n",
            "A value is trying to be set on a copy of a slice from a DataFrame.\n",
            "Try using .loc[row_indexer,col_indexer] = value instead\n",
            "\n",
            "See the caveats in the documentation: https://pandas.pydata.org/pandas-docs/stable/user_guide/indexing.html#returning-a-view-versus-a-copy\n",
            "  \n"
          ]
        }
      ]
    },
    {
      "cell_type": "markdown",
      "source": [
        "## Создание словаря встречаемости для каждой отдельной темы и датафрейма частотности упоминания на основе этого словаря"
      ],
      "metadata": {
        "id": "WfrSfvVaLdAI"
      }
    },
    {
      "cell_type": "code",
      "source": [
        "topics = []\n",
        "for theme in themes:\n",
        "  theme = str(theme).split(', ')\n",
        "  for t in theme:\n",
        "    if t not in topics:\n",
        "      topics.append(t)\n",
        "for topic in topics:\n",
        "  tt = []\n",
        "  for theme in themes:\n",
        "    if topic in theme:\n",
        "      tt.append(1)\n",
        "    else:\n",
        "      tt.append(0)\n",
        "  decthem[topic] = tt"
      ],
      "metadata": {
        "id": "D8P56p9_BHHP"
      },
      "execution_count": null,
      "outputs": []
    },
    {
      "cell_type": "code",
      "source": [
        "results = decthem[topics].groupby(decthem['decade']).sum()"
      ],
      "metadata": {
        "id": "QvLyim2O9rXy"
      },
      "execution_count": null,
      "outputs": []
    },
    {
      "cell_type": "code",
      "source": [
        "results.columns"
      ],
      "metadata": {
        "colab": {
          "base_uri": "https://localhost:8080/"
        },
        "id": "WvtTPEPlp6XF",
        "outputId": "c0dc32bb-cdc9-4ef8-ce6d-5482661dae2a"
      },
      "execution_count": null,
      "outputs": [
        {
          "output_type": "execute_result",
          "data": {
            "text/plain": [
              "Index(['день рождения', 'поздравление', 'восьмое марта', 'новый год',\n",
              "       'просьба', 'требование', 'долг', 'новости', 'свадьба', 'благодарность',\n",
              "       'угроза', 'предупреждение', 'пожелание', 'день целинника', 'нет данных',\n",
              "       'рождение ребенка', 'присвоение звания', 'получение награды',\n",
              "       'одобрение', 'приглашение', 'первое мая', 'уведомление', 'деньги',\n",
              "       'годовщина октябрьской революции', 'день города', 'приветствие',\n",
              "       'день шахтера', 'годовщина советской армии', 'трудовое достижение',\n",
              "       'военная', 'соболезнование', 'вопрос', 'девятое мая',\n",
              "       'открытие съезда комсомола', 'обещание', 'смерть',\n",
              "       'начало учебного года', 'манифест', 'политика', 'осуждение', 'вызов',\n",
              "       'возражение', 'день советской армии'],\n",
              "      dtype='object')"
            ]
          },
          "metadata": {},
          "execution_count": 12
        }
      ]
    },
    {
      "cell_type": "code",
      "source": [
        "results['новости'].sum()"
      ],
      "metadata": {
        "colab": {
          "base_uri": "https://localhost:8080/"
        },
        "id": "6HkaOwO5ILHa",
        "outputId": "c7483a26-0789-4717-8be4-711e73ed819f"
      },
      "execution_count": null,
      "outputs": [
        {
          "output_type": "execute_result",
          "data": {
            "text/plain": [
              "215"
            ]
          },
          "metadata": {},
          "execution_count": 13
        }
      ]
    },
    {
      "cell_type": "markdown",
      "source": [
        "Создание графиков в зависимости от интересующей темы. Для получения статистики по конкретной теме требуется прописать её в строчке Y = results['']. Также программа умеет сохранять полученные графики в качестве картинки"
      ],
      "metadata": {
        "id": "87D4NQeXLug0"
      }
    },
    {
      "cell_type": "code",
      "source": [
        "import matplotlib as mpl\n",
        "import matplotlib.pyplot as plt"
      ],
      "metadata": {
        "id": "But8-qE8i74Z"
      },
      "execution_count": null,
      "outputs": []
    },
    {
      "cell_type": "code",
      "source": [
        "plt.get_cmap(\"viridis\")\n",
        "plt.rcParams[\"figure.figsize\"] = (10,5.5)\n",
        "X = results.index\n",
        "Y = results['новости']\n",
        "fig, ax = plt.subplots()\n",
        "ax.bar(X,Y, width = 0.5, color = '#ddaa55')\n",
        "ax.set_title('Данные по новостям')\n",
        "fig.show()\n",
        "#plt.savefig('/content/drive/MyDrive/___МАГИСТРАТУРА/телеграммы/TELEGRAMMA/python/news')"
      ],
      "metadata": {
        "colab": {
          "base_uri": "https://localhost:8080/",
          "height": 363
        },
        "id": "I78Di5NZuRFn",
        "outputId": "e386a1de-cc2c-4bc5-c412-8332f1336178"
      },
      "execution_count": null,
      "outputs": [
        {
          "output_type": "display_data",
          "data": {
            "text/plain": [
              "<Figure size 720x396 with 1 Axes>"
            ],
            "image/png": "[encoded data removed]"
          },
          "metadata": {
            "needs_background": "light"
          }
        }
      ]
    }
  ]
}