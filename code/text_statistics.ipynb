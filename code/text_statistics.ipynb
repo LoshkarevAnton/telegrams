{
  "nbformat": 4,
  "nbformat_minor": 0,
  "metadata": {
    "colab": {
      "name": "text_statistics",
      "provenance": [],
      "authorship_tag": "ABX9TyM5tgra6gkQk43k/3eh8hsu",
      "include_colab_link": true
    },
    "kernelspec": {
      "name": "python3",
      "display_name": "Python 3"
    },
    "language_info": {
      "name": "python"
    }
  },
  "cells": [
    {
      "cell_type": "markdown",
      "metadata": {
        "id": "view-in-github",
        "colab_type": "text"
      },
      "source": [
        "<a href=\"https://colab.research.google.com/github/marinanastas/telegrams/blob/main/code/text_statistics.ipynb\" target=\"_parent\"><img src=\"https://colab.research.google.com/assets/colab-badge.svg\" alt=\"Open In Colab\"/></a>"
      ]
    },
    {
      "cell_type": "markdown",
      "source": [
        "Подготовка данных и библиотек"
      ],
      "metadata": {
        "id": "KI2WGAIp7gaq"
      }
    },
    {
      "cell_type": "code",
      "execution_count": null,
      "metadata": {
        "colab": {
          "base_uri": "https://localhost:8080/"
        },
        "id": "Z8uJP4WV5aaA",
        "outputId": "282725d3-1e7a-4e90-c1a0-c741ad579c87"
      },
      "outputs": [
        {
          "output_type": "stream",
          "name": "stdout",
          "text": [
            "Mounted at /content/drive\n"
          ]
        }
      ],
      "source": [
        "from google.colab import drive\n",
        "drive.mount('/content/drive')"
      ]
    },
    {
      "cell_type": "code",
      "source": [
        "import pandas as pd\n",
        "import re\n",
        "import matplotlib as mpl\n",
        "import matplotlib.pyplot as plt"
      ],
      "metadata": {
        "id": "N3zPBEP86aug"
      },
      "execution_count": null,
      "outputs": []
    },
    {
      "cell_type": "code",
      "source": [
        "fname = '/content/drive/MyDrive/___МАГИСТРАТУРА/телеграммы/TELEGRAMMA/python/БД все телеграммы_1.xlsx'\n",
        "df = pd.read_excel(fname)"
      ],
      "metadata": {
        "id": "EyuBAPkd6uPV"
      },
      "execution_count": null,
      "outputs": []
    },
    {
      "cell_type": "markdown",
      "source": [
        "Функция для поиска нестандартной разметки и её применение на нашем датасете"
      ],
      "metadata": {
        "id": "9QRjlBEa7nsn"
      }
    },
    {
      "cell_type": "code",
      "source": [
        "regulars = ['\\{[а-яёА-ЯЁ\\-]+\\}', '\\*[а-яёА-ЯЁ\\-]+\\*', '\\<[а-яёА-ЯЁ\\-]+\\>', '\\^[а-яёА-ЯЁ\\-]+\\^', '\\&[а-яёА-ЯЁ\\-]+\\&']\n",
        "col_names = ['pre_rev', 'ortho', 'typo', 'abbr', 'graph']"
      ],
      "metadata": {
        "id": "uksfhCdh-wLs"
      },
      "execution_count": null,
      "outputs": []
    },
    {
      "cell_type": "code",
      "source": [
        "def searchtool(phrase, key, col):\n",
        "  phrase = str(phrase)\n",
        "  vals = 0\n",
        "  if re.search(key, phrase) is not None:\n",
        "    vals = 1\n",
        "  return vals"
      ],
      "metadata": {
        "id": "g_plstvs627I"
      },
      "execution_count": null,
      "outputs": []
    },
    {
      "cell_type": "code",
      "source": [
        "for i, key in enumerate(regulars):\n",
        "  #print(len(key))\n",
        "  col = col_names[i]\n",
        "  df[col] = df['text'].apply(searchtool, args = (key, col))"
      ],
      "metadata": {
        "id": "NQvGwhHT9Hf2"
      },
      "execution_count": null,
      "outputs": []
    },
    {
      "cell_type": "code",
      "source": [
        "def year_assignment(date):\n",
        "  year = ''\n",
        "  date = str(date)\n",
        "  if len(date.split('.')) !=3:\n",
        "   year = 'xxxx'\n",
        "  else:\n",
        "    year = date.split('.')[2]\n",
        "  return year"
      ],
      "metadata": {
        "id": "nYAYwMpZ0Ui_"
      },
      "execution_count": null,
      "outputs": []
    },
    {
      "cell_type": "code",
      "source": [
        "df['year'] = df['date'].apply(year_assignment) \n",
        "df[col_names].groupby(df['year']).sum()"
      ],
      "metadata": {
        "colab": {
          "base_uri": "https://localhost:8080/",
          "height": 455
        },
        "id": "nRPzpAtnHazv",
        "outputId": "e43abad8-5625-481b-e35f-a1bee83c117c"
      },
      "execution_count": null,
      "outputs": [
        {
          "output_type": "execute_result",
          "data": {
            "text/plain": [
              "      pre_rev  ortho  typo  abbr  graph\n",
              "year                                   \n",
              "1877       34      4     0     2      0\n",
              "1880        0      0     0     0      0\n",
              "1882        1      0     0     1      0\n",
              "1883        1      0     0     0      0\n",
              "1885        0      0     0     0      0\n",
              "...       ...    ...   ...   ...    ...\n",
              "2012        0      0     0     0      0\n",
              "2013        0      0     0     0      0\n",
              "2014        0      0     0     0      0\n",
              "20хх        0      0     0     0      0\n",
              "xxxx       10     13    20     4      1\n",
              "\n",
              "[108 rows x 5 columns]"
            ],
            "text/html": [
              "\n",
              "  <div id=\"df-6dc9d7f7-b56c-4294-8679-474436570eee\">\n",
              "    <div class=\"colab-df-container\">\n",
              "      <div>\n",
              "<style scoped>\n",
              "    .dataframe tbody tr th:only-of-type {\n",
              "        vertical-align: middle;\n",
              "    }\n",
              "\n",
              "    .dataframe tbody tr th {\n",
              "        vertical-align: top;\n",
              "    }\n",
              "\n",
              "    .dataframe thead th {\n",
              "        text-align: right;\n",
              "    }\n",
              "</style>\n",
              "<table border=\"1\" class=\"dataframe\">\n",
              "  <thead>\n",
              "    <tr style=\"text-align: right;\">\n",
              "      <th></th>\n",
              "      <th>pre_rev</th>\n",
              "      <th>ortho</th>\n",
              "      <th>typo</th>\n",
              "      <th>abbr</th>\n",
              "      <th>graph</th>\n",
              "    </tr>\n",
              "    <tr>\n",
              "      <th>year</th>\n",
              "      <th></th>\n",
              "      <th></th>\n",
              "      <th></th>\n",
              "      <th></th>\n",
              "      <th></th>\n",
              "    </tr>\n",
              "  </thead>\n",
              "  <tbody>\n",
              "    <tr>\n",
              "      <th>1877</th>\n",
              "      <td>34</td>\n",
              "      <td>4</td>\n",
              "      <td>0</td>\n",
              "      <td>2</td>\n",
              "      <td>0</td>\n",
              "    </tr>\n",
              "    <tr>\n",
              "      <th>1880</th>\n",
              "      <td>0</td>\n",
              "      <td>0</td>\n",
              "      <td>0</td>\n",
              "      <td>0</td>\n",
              "      <td>0</td>\n",
              "    </tr>\n",
              "    <tr>\n",
              "      <th>1882</th>\n",
              "      <td>1</td>\n",
              "      <td>0</td>\n",
              "      <td>0</td>\n",
              "      <td>1</td>\n",
              "      <td>0</td>\n",
              "    </tr>\n",
              "    <tr>\n",
              "      <th>1883</th>\n",
              "      <td>1</td>\n",
              "      <td>0</td>\n",
              "      <td>0</td>\n",
              "      <td>0</td>\n",
              "      <td>0</td>\n",
              "    </tr>\n",
              "    <tr>\n",
              "      <th>1885</th>\n",
              "      <td>0</td>\n",
              "      <td>0</td>\n",
              "      <td>0</td>\n",
              "      <td>0</td>\n",
              "      <td>0</td>\n",
              "    </tr>\n",
              "    <tr>\n",
              "      <th>...</th>\n",
              "      <td>...</td>\n",
              "      <td>...</td>\n",
              "      <td>...</td>\n",
              "      <td>...</td>\n",
              "      <td>...</td>\n",
              "    </tr>\n",
              "    <tr>\n",
              "      <th>2012</th>\n",
              "      <td>0</td>\n",
              "      <td>0</td>\n",
              "      <td>0</td>\n",
              "      <td>0</td>\n",
              "      <td>0</td>\n",
              "    </tr>\n",
              "    <tr>\n",
              "      <th>2013</th>\n",
              "      <td>0</td>\n",
              "      <td>0</td>\n",
              "      <td>0</td>\n",
              "      <td>0</td>\n",
              "      <td>0</td>\n",
              "    </tr>\n",
              "    <tr>\n",
              "      <th>2014</th>\n",
              "      <td>0</td>\n",
              "      <td>0</td>\n",
              "      <td>0</td>\n",
              "      <td>0</td>\n",
              "      <td>0</td>\n",
              "    </tr>\n",
              "    <tr>\n",
              "      <th>20хх</th>\n",
              "      <td>0</td>\n",
              "      <td>0</td>\n",
              "      <td>0</td>\n",
              "      <td>0</td>\n",
              "      <td>0</td>\n",
              "    </tr>\n",
              "    <tr>\n",
              "      <th>xxxx</th>\n",
              "      <td>10</td>\n",
              "      <td>13</td>\n",
              "      <td>20</td>\n",
              "      <td>4</td>\n",
              "      <td>1</td>\n",
              "    </tr>\n",
              "  </tbody>\n",
              "</table>\n",
              "<p>108 rows × 5 columns</p>\n",
              "</div>\n",
              "      <button class=\"colab-df-convert\" onclick=\"convertToInteractive('df-6dc9d7f7-b56c-4294-8679-474436570eee')\"\n",
              "              title=\"Convert this dataframe to an interactive table.\"\n",
              "              style=\"display:none;\">\n",
              "        \n",
              "  <svg xmlns=\"http://www.w3.org/2000/svg\" height=\"24px\"viewBox=\"0 0 24 24\"\n",
              "       width=\"24px\">\n",
              "    <path d=\"M0 0h24v24H0V0z\" fill=\"none\"/>\n",
              "    <path d=\"M18.56 5.44l.94 2.06.94-2.06 2.06-.94-2.06-.94-.94-2.06-.94 2.06-2.06.94zm-11 1L8.5 8.5l.94-2.06 2.06-.94-2.06-.94L8.5 2.5l-.94 2.06-2.06.94zm10 10l.94 2.06.94-2.06 2.06-.94-2.06-.94-.94-2.06-.94 2.06-2.06.94z\"/><path d=\"M17.41 7.96l-1.37-1.37c-.4-.4-.92-.59-1.43-.59-.52 0-1.04.2-1.43.59L10.3 9.45l-7.72 7.72c-.78.78-.78 2.05 0 2.83L4 21.41c.39.39.9.59 1.41.59.51 0 1.02-.2 1.41-.59l7.78-7.78 2.81-2.81c.8-.78.8-2.07 0-2.86zM5.41 20L4 18.59l7.72-7.72 1.47 1.35L5.41 20z\"/>\n",
              "  </svg>\n",
              "      </button>\n",
              "      \n",
              "  <style>\n",
              "    .colab-df-container {\n",
              "      display:flex;\n",
              "      flex-wrap:wrap;\n",
              "      gap: 12px;\n",
              "    }\n",
              "\n",
              "    .colab-df-convert {\n",
              "      background-color: #E8F0FE;\n",
              "      border: none;\n",
              "      border-radius: 50%;\n",
              "      cursor: pointer;\n",
              "      display: none;\n",
              "      fill: #1967D2;\n",
              "      height: 32px;\n",
              "      padding: 0 0 0 0;\n",
              "      width: 32px;\n",
              "    }\n",
              "\n",
              "    .colab-df-convert:hover {\n",
              "      background-color: #E2EBFA;\n",
              "      box-shadow: 0px 1px 2px rgba(60, 64, 67, 0.3), 0px 1px 3px 1px rgba(60, 64, 67, 0.15);\n",
              "      fill: #174EA6;\n",
              "    }\n",
              "\n",
              "    [theme=dark] .colab-df-convert {\n",
              "      background-color: #3B4455;\n",
              "      fill: #D2E3FC;\n",
              "    }\n",
              "\n",
              "    [theme=dark] .colab-df-convert:hover {\n",
              "      background-color: #434B5C;\n",
              "      box-shadow: 0px 1px 3px 1px rgba(0, 0, 0, 0.15);\n",
              "      filter: drop-shadow(0px 1px 2px rgba(0, 0, 0, 0.3));\n",
              "      fill: #FFFFFF;\n",
              "    }\n",
              "  </style>\n",
              "\n",
              "      <script>\n",
              "        const buttonEl =\n",
              "          document.querySelector('#df-6dc9d7f7-b56c-4294-8679-474436570eee button.colab-df-convert');\n",
              "        buttonEl.style.display =\n",
              "          google.colab.kernel.accessAllowed ? 'block' : 'none';\n",
              "\n",
              "        async function convertToInteractive(key) {\n",
              "          const element = document.querySelector('#df-6dc9d7f7-b56c-4294-8679-474436570eee');\n",
              "          const dataTable =\n",
              "            await google.colab.kernel.invokeFunction('convertToInteractive',\n",
              "                                                     [key], {});\n",
              "          if (!dataTable) return;\n",
              "\n",
              "          const docLinkHtml = 'Like what you see? Visit the ' +\n",
              "            '<a target=\"_blank\" href=https://colab.research.google.com/notebooks/data_table.ipynb>data table notebook</a>'\n",
              "            + ' to learn more about interactive tables.';\n",
              "          element.innerHTML = '';\n",
              "          dataTable['output_type'] = 'display_data';\n",
              "          await google.colab.output.renderOutput(dataTable, element);\n",
              "          const docLink = document.createElement('div');\n",
              "          docLink.innerHTML = docLinkHtml;\n",
              "          element.appendChild(docLink);\n",
              "        }\n",
              "      </script>\n",
              "    </div>\n",
              "  </div>\n",
              "  "
            ]
          },
          "metadata": {},
          "execution_count": 11
        }
      ]
    },
    {
      "cell_type": "code",
      "source": [
        "results = pd.DataFrame()\n",
        "results['total'] = df['year'].groupby(df['year']).count()\n",
        "results = pd.concat([results, df[col_names].groupby(df['year']).sum()], axis = 1)"
      ],
      "metadata": {
        "id": "gqRwvmf086u2"
      },
      "execution_count": null,
      "outputs": []
    },
    {
      "cell_type": "markdown",
      "source": [
        "Доля каждого типа нестандартной разметки в общем числе телеграмм (с графиком)"
      ],
      "metadata": {
        "id": "t8KSgy7372pJ"
      }
    },
    {
      "cell_type": "code",
      "source": [
        "summa = len(df)\n",
        "the_sums = [summa, summa, summa, summa, summa]\n",
        "precs = df[col_names].sum()\n",
        "spdif = the_sums - precs\n",
        "spdif.index\n",
        "perc = round(precs*100/the_sums, 2)\n",
        "perc"
      ],
      "metadata": {
        "colab": {
          "base_uri": "https://localhost:8080/"
        },
        "id": "Ro_OggZMk2x-",
        "outputId": "da8063fe-f067-4a54-bfd7-c8d8c293f46f"
      },
      "execution_count": null,
      "outputs": [
        {
          "output_type": "execute_result",
          "data": {
            "text/plain": [
              "pre_rev     9.97\n",
              "ortho       9.11\n",
              "typo       14.09\n",
              "abbr        2.97\n",
              "graph       0.58\n",
              "dtype: float64"
            ]
          },
          "metadata": {},
          "execution_count": 63
        }
      ]
    },
    {
      "cell_type": "code",
      "source": [
        "fig, ax = plt.subplots()\n",
        "\n",
        "plt.rcParams[\"figure.figsize\"] = (10,5.5)\n",
        "width = 0.5\n",
        "\n",
        "ax.bar(spdif.index, spdif, width, label='Остальное', color = '#ab5598')\n",
        "ax.bar(spdif.index, precs, width, bottom=spdif,\n",
        "       label='Нестандартная разметка', color = '#454599')\n",
        "\n",
        "ax.set_ylabel('Количество телеграмм')\n",
        "ax.set_title('Общие данные')\n",
        "ax.legend()\n",
        "\n",
        "fig.show()\n",
        "plt.savefig('/content/drive/MyDrive/___МАГИСТРАТУРА/телеграммы/TELEGRAMMA/python/total_vs_special')"
      ],
      "metadata": {
        "colab": {
          "base_uri": "https://localhost:8080/",
          "height": 363
        },
        "id": "uJwg5qLSlaDB",
        "outputId": "bbee5ab5-2bf0-4f76-ec74-d1c081895b20"
      },
      "execution_count": null,
      "outputs": [
        {
          "output_type": "display_data",
          "data": {
            "text/plain": [
              "<Figure size 720x396 with 1 Axes>"
            ],
            "image/png": "[encoded data removed]"
          },
          "metadata": {
            "needs_background": "light"
          }
        }
      ]
    },
    {
      "cell_type": "markdown",
      "source": [
        "Распределение телеграмм с дореволюционной орфографией в отношении к общему числу по годам"
      ],
      "metadata": {
        "id": "eCllZV618n6m"
      }
    },
    {
      "cell_type": "code",
      "source": [
        "results[results['pre_rev'] > 0]"
      ],
      "metadata": {
        "id": "I1wWqCkFWFfW"
      },
      "execution_count": null,
      "outputs": []
    },
    {
      "cell_type": "code",
      "source": [
        "fig, ax = plt.subplots()\n",
        "\n",
        "plt.rcParams[\"figure.figsize\"] = (10,5.5)\n",
        "width = 0.5\n",
        "\n",
        "results['Разность'] = results['total']- results['pre_rev']\n",
        "\n",
        "ax.bar(results.index, results['Разность'], width, label='Остальное', color = '#2baf9d')\n",
        "ax.bar(results.index, results['pre_rev'], width, bottom=results['Разность'],\n",
        "       label='Дореволюционная орфография', color = '#901473')\n",
        "\n",
        "plt.axvline(x = '1917', color=\"red\", linewidth = 1)\n",
        "plt.xticks(color = 'w')\n",
        "ax.set_ylabel('Количество телеграмм')\n",
        "ax.set_title('Общие данные')\n",
        "ax.legend()\n",
        "\n",
        "fig.show()\n",
        "plt.savefig('/content/drive/MyDrive/___МАГИСТРАТУРА/телеграммы/TELEGRAMMA/python/pre_rev')"
      ],
      "metadata": {
        "colab": {
          "base_uri": "https://localhost:8080/",
          "height": 363
        },
        "id": "71wjbu2yTOhM",
        "outputId": "8f27501c-ac92-46d7-95fd-a962f06574dd"
      },
      "execution_count": null,
      "outputs": [
        {
          "output_type": "display_data",
          "data": {
            "text/plain": [
              "<Figure size 720x396 with 1 Axes>"
            ],
            "image/png": "[encoded data removed]"
          },
          "metadata": {}
        }
      ]
    },
    {
      "cell_type": "markdown",
      "source": [
        "Распределение телеграмм с аббревиатурами в отношении к общему числу по годам\n",
        "\n"
      ],
      "metadata": {
        "id": "mUtkvhrF87P3"
      }
    },
    {
      "cell_type": "code",
      "source": [
        "results[results['ortho'] > 0]"
      ],
      "metadata": {
        "id": "nw9O3TK7n7by"
      },
      "execution_count": null,
      "outputs": []
    },
    {
      "cell_type": "code",
      "source": [
        "fig, ax = plt.subplots()\n",
        "\n",
        "plt.rcParams[\"figure.figsize\"] = (10,5.5)\n",
        "width = 0.5\n",
        "\n",
        "results['Разность'] = results['total']- results['ortho']\n",
        "\n",
        "ax.bar(results.index, results['Разность'], width, label='Остальное', color = '#ff9900')\n",
        "ax.bar(results.index, results['ortho'], width, bottom=results['Разность'],\n",
        "       label='Орфографические ошибки', color = '#aa0000')\n",
        "\n",
        "#plt.axvline(x = '1917', color=\"red\", linewidth = 1)\n",
        "plt.xticks(color = 'w')\n",
        "ax.set_ylabel('Количество телеграмм')\n",
        "ax.set_title('Общие данные')\n",
        "ax.legend()\n",
        "\n",
        "fig.show()\n",
        "plt.savefig('/content/drive/MyDrive/___МАГИСТРАТУРА/телеграммы/TELEGRAMMA/python/ortho')"
      ],
      "metadata": {
        "colab": {
          "base_uri": "https://localhost:8080/",
          "height": 363
        },
        "outputId": "a50d970b-80b0-448f-b62f-0f8cdfa2e8bd",
        "id": "M1DwVM2on7cR"
      },
      "execution_count": null,
      "outputs": [
        {
          "output_type": "display_data",
          "data": {
            "text/plain": [
              "<Figure size 720x396 with 1 Axes>"
            ],
            "image/png": "[encoded data removed]"
          },
          "metadata": {}
        }
      ]
    },
    {
      "cell_type": "markdown",
      "source": [
        "Аббревиатуры: у меня есть гипотеза, что во времена СССР их было больше"
      ],
      "metadata": {
        "id": "exNDYNAasGwM"
      }
    },
    {
      "cell_type": "code",
      "source": [
        "fig, ax = plt.subplots()\n",
        "\n",
        "plt.rcParams[\"figure.figsize\"] = (10,5.5)\n",
        "width = 0.5\n",
        "\n",
        "results['Разность'] = results['total']- results['abbr']\n",
        "\n",
        "ax.bar(results.index, results['Разность'], width, label='Остальное', color = '#FBCB0A')\n",
        "ax.bar(results.index, results['abbr'], width, bottom=results['Разность'],\n",
        "       label='Аббревиатуры', color = '#C70A80')\n",
        "\n",
        "plt.axvline(x = '1917', color=\"red\", linewidth = 1)\n",
        "plt.axvline(x = '1991', color=\"red\", linewidth = 1)\n",
        "plt.xticks(color = 'w')\n",
        "ax.set_ylabel('Количество телеграмм')\n",
        "ax.set_title('Общие данные')\n",
        "ax.legend()\n",
        "\n",
        "fig.show()\n",
        "plt.savefig('/content/drive/MyDrive/___МАГИСТРАТУРА/телеграммы/TELEGRAMMA/python/abbr')"
      ],
      "metadata": {
        "colab": {
          "base_uri": "https://localhost:8080/",
          "height": 363
        },
        "id": "bq-ViR7fsvdv",
        "outputId": "3b8611b3-00ad-464f-ba62-270351448cce"
      },
      "execution_count": null,
      "outputs": [
        {
          "output_type": "display_data",
          "data": {
            "text/plain": [
              "<Figure size 720x396 with 1 Axes>"
            ],
            "image/png": "[encoded data removed]"
          },
          "metadata": {}
        }
      ]
    },
    {
      "cell_type": "code",
      "source": [
        "plt.get_cmap(\"viridis\")\n",
        "plt.rcParams[\"figure.figsize\"] = (10,5.5)\n",
        "X = results.index\n",
        "Y = round(results['abbr']*100/(results['total']+0.00001), 2)\n",
        "fig, ax = plt.subplots()\n",
        "ax.bar(X,Y)\n",
        "\n",
        "plt.axvline(x = '1917', color=\"red\", linewidth = 1)\n",
        "plt.axvline(x = '1991', color=\"red\", linewidth = 1)\n",
        "\n",
        "plt.xticks(color = 'w')\n",
        "ax.set_title('Аббревиатуры в процентах от общего числа отправленных телеграмм')\n",
        "fig.show()\n",
        "plt.savefig('/content/drive/MyDrive/___МАГИСТРАТУРА/телеграммы/TELEGRAMMA/python/abbr_perc')"
      ],
      "metadata": {
        "colab": {
          "base_uri": "https://localhost:8080/",
          "height": 363
        },
        "id": "397tvJQJvmBF",
        "outputId": "f2457d0b-669f-42bf-9aab-0fde8fa6bf7c"
      },
      "execution_count": null,
      "outputs": [
        {
          "output_type": "display_data",
          "data": {
            "text/plain": [
              "<Figure size 720x396 with 1 Axes>"
            ],
            "image/png": "[encoded data removed]"
          },
          "metadata": {}
        }
      ]
    },
    {
      "cell_type": "markdown",
      "source": [
        "Облака слов по тематике\n",
        "\n",
        "У нас выделяется пять тематических групп: будничные телеграммы, военно-политические, личные поздравления, государственные праздники и устаревшие праздники. Телеграммы с темой \"без данных\""
      ],
      "metadata": {
        "id": "NECL_qJ0GGRF"
      }
    },
    {
      "cell_type": "code",
      "source": [
        "def nonans(t):\n",
        "  if type(t) is float:\n",
        "    t = 'нет данных'\n",
        "  return t"
      ],
      "metadata": {
        "id": "Vo_QE4gaLHRd"
      },
      "execution_count": null,
      "outputs": []
    },
    {
      "cell_type": "code",
      "source": [
        "decthem = df[['text', 'date', 'theme']]\n",
        "decthem['theme'] = decthem['theme'].apply(nonans)\n",
        "themes = decthem['theme'].unique()"
      ],
      "metadata": {
        "colab": {
          "base_uri": "https://localhost:8080/"
        },
        "id": "YEXzm91JGJx_",
        "outputId": "e6effa21-b3ca-4e7b-ebcf-86ba879eecba"
      },
      "execution_count": null,
      "outputs": [
        {
          "output_type": "stream",
          "name": "stderr",
          "text": [
            "/usr/local/lib/python3.7/dist-packages/ipykernel_launcher.py:2: SettingWithCopyWarning: \n",
            "A value is trying to be set on a copy of a slice from a DataFrame.\n",
            "Try using .loc[row_indexer,col_indexer] = value instead\n",
            "\n",
            "See the caveats in the documentation: https://pandas.pydata.org/pandas-docs/stable/user_guide/indexing.html#returning-a-view-versus-a-copy\n",
            "  \n"
          ]
        }
      ]
    },
    {
      "cell_type": "code",
      "source": [
        "topics = []\n",
        "for theme in themes:\n",
        "  theme = str(theme).split(', ')\n",
        "  for t in theme:\n",
        "    if t not in topics:\n",
        "      topics.append(t)"
      ],
      "metadata": {
        "id": "dtFMc_WSLNYk"
      },
      "execution_count": null,
      "outputs": []
    },
    {
      "cell_type": "code",
      "source": [
        "topic_to_topic = {'день рождения':'личные поздравления',\n",
        "  'поздравление':'личные поздравления',\n",
        "  'восьмое марта':'государственные праздники',\n",
        "  'новый год':'государственные праздники',\n",
        "  'просьба':'будничные телеграммы',\n",
        "  'требование':'будничные телеграммы',\n",
        "  'долг':'будничные телеграммы',\n",
        "  'новости':'будничные телеграммы',\n",
        "  'свадьба':'личные поздравления',\n",
        "  'благодарность':'будничные телеграммы',\n",
        "  'угроза':'будничные телеграммы',\n",
        "  'предупреждение':'будничные телеграммы',\n",
        "  'пожелание':'будничные телеграммы',\n",
        "  'день целинника':'устаревшие праздники',\n",
        "  'рождение ребенка':'личные поздравления',\n",
        "  'присвоение звания':'личные поздравления',\n",
        "  'получение награды':'личные поздравления',\n",
        "  'одобрение':'будничные телеграммы',\n",
        "  'приглашение':'будничные телеграммы',\n",
        "  'первое мая':'государственные праздники',\n",
        "  'уведомление':'будничные телеграммы',\n",
        "  'деньги':'будничные телеграммы',\n",
        "  'годовщина октябрьской революции':'устаревшие праздники',\n",
        "  'день города':'государственные праздники',\n",
        "  'приветствие':'будничные телеграммы',\n",
        "  'день шахтера':'устаревшие праздники',\n",
        "  'годовщина советской армии':'устаревшие праздники',\n",
        "  'трудовое достижение':'личные поздравления',\n",
        "  'военная':'военно-политические',\n",
        "  'соболезнование':'будничные телеграммы',\n",
        "  'вопрос':'будничные телеграммы',\n",
        "  'девятое мая':'государственные праздники',\n",
        "  'открытие съезда комсомола':'устаревшие праздники',\n",
        "  'обещание':'будничные телеграммы',\n",
        "  'смерть':'будничные телеграммы',\n",
        "  'начало учебного года':'личные поздравления',\n",
        "  'манифест':'военно-политические',\n",
        "  'политика':'военно-политические',\n",
        "  'осуждение':'будничные телеграммы',\n",
        "  'вызов':'военно-политические',\n",
        "  'возражение':'будничные телеграммы',\n",
        "  'день советской армии':'устаревшие праздники'}"
      ],
      "metadata": {
        "id": "dUySDVn8NYqT"
      },
      "execution_count": null,
      "outputs": []
    },
    {
      "cell_type": "code",
      "source": [
        "def topic_to_theme(topic):\n",
        "  tt = 'нет данных'\n",
        "  topic = topic.split(', ')\n",
        "  for top in topic:\n",
        "    if top in topic_to_topic:\n",
        "      tt = topic_to_topic[top]\n",
        "  return tt"
      ],
      "metadata": {
        "id": "mRYcBH3RQnaM"
      },
      "execution_count": null,
      "outputs": []
    },
    {
      "cell_type": "code",
      "source": [
        "decthem['theme_corr'] = decthem['theme'].apply(topic_to_theme)"
      ],
      "metadata": {
        "colab": {
          "base_uri": "https://localhost:8080/"
        },
        "id": "60nBJsOoaMRH",
        "outputId": "5b82f55c-0d75-4f1c-f804-be419ee0d6f4"
      },
      "execution_count": null,
      "outputs": [
        {
          "output_type": "stream",
          "name": "stderr",
          "text": [
            "/usr/local/lib/python3.7/dist-packages/ipykernel_launcher.py:1: SettingWithCopyWarning: \n",
            "A value is trying to be set on a copy of a slice from a DataFrame.\n",
            "Try using .loc[row_indexer,col_indexer] = value instead\n",
            "\n",
            "See the caveats in the documentation: https://pandas.pydata.org/pandas-docs/stable/user_guide/indexing.html#returning-a-view-versus-a-copy\n",
            "  \"\"\"Entry point for launching an IPython kernel.\n"
          ]
        }
      ]
    },
    {
      "cell_type": "code",
      "source": [
        "def nonans_2(t):\n",
        "  if type(t) is float:\n",
        "    t = ''\n",
        "  return t"
      ],
      "metadata": {
        "id": "-3C02T4Bb9kk"
      },
      "execution_count": null,
      "outputs": []
    },
    {
      "cell_type": "code",
      "source": [
        "personal_dates = ' '.join(decthem['text'][decthem['theme_corr'] == 'личные поздравления'].apply(nonans_2))\n",
        "public_holidays = ' '.join(decthem['text'][decthem['theme_corr'] == 'государственные праздники'].apply(nonans_2))\n",
        "mundane = ' '.join(decthem['text'][decthem['theme_corr'] == 'будничные телеграммы'].apply(nonans_2))\n",
        "old_holidays = ' '.join(decthem['text'][decthem['theme_corr'] == 'устаревшие праздники'].apply(nonans_2))\n",
        "politics = ' '.join(decthem['text'][decthem['theme_corr'] == 'военно-политические'].apply(nonans_2))"
      ],
      "metadata": {
        "id": "EOLC2F1bahE4"
      },
      "execution_count": null,
      "outputs": []
    },
    {
      "cell_type": "code",
      "source": [
        "import re"
      ],
      "metadata": {
        "id": "WGxa2HfKm1vK"
      },
      "execution_count": null,
      "outputs": []
    },
    {
      "cell_type": "code",
      "source": [
        ""
      ],
      "metadata": {
        "id": "Q2kDdIf7nkUY"
      },
      "execution_count": null,
      "outputs": []
    },
    {
      "cell_type": "code",
      "source": [
        "with open('/content/drive/MyDrive/___МАГИСТРАТУРА/телеграммы/TELEGRAMMA/python/na-stas/personal_dates.txt', 'w') as f:\n",
        "  f.write(personal_dates)\n",
        "with open('/content/drive/MyDrive/___МАГИСТРАТУРА/телеграммы/TELEGRAMMA/python/na-stas/public_holidays.txt', 'w') as f:\n",
        "  f.write(public_holidays)\n",
        "with open('/content/drive/MyDrive/___МАГИСТРАТУРА/телеграммы/TELEGRAMMA/python/na-stas/mundane.txt', 'w') as f:\n",
        "  f.write(mundane)\n",
        "with open('/content/drive/MyDrive/___МАГИСТРАТУРА/телеграммы/TELEGRAMMA/python/na-stas/old_holidays.txt', 'w') as f:\n",
        "  f.write(old_holidays)\n",
        "with open('/content/drive/MyDrive/___МАГИСТРАТУРА/телеграммы/TELEGRAMMA/python/na-stas/politics.txt', 'w') as f:\n",
        "  f.write(politics)"
      ],
      "metadata": {
        "id": "ubqTwCpChM4E"
      },
      "execution_count": null,
      "outputs": []
    }
  ]
}