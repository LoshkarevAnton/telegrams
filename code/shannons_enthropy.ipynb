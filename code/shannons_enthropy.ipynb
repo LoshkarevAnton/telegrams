{
  "nbformat": 4,
  "nbformat_minor": 0,
  "metadata": {
    "colab": {
      "name": "shannons_enthropy.ipynb",
      "provenance": [],
      "authorship_tag": "ABX9TyPROnfDJgr8wysSw7MIbeko",
      "include_colab_link": true
    },
    "kernelspec": {
      "name": "python3",
      "display_name": "Python 3"
    },
    "language_info": {
      "name": "python"
    }
  },
  "cells": [
    {
      "cell_type": "markdown",
      "metadata": {
        "id": "view-in-github",
        "colab_type": "text"
      },
      "source": [
        "<a href=\"https://colab.research.google.com/github/marinanastas/telegrams/blob/main/code/shannons_enthropy.ipynb\" target=\"_parent\"><img src=\"https://colab.research.google.com/assets/colab-badge.svg\" alt=\"Open In Colab\"/></a>"
      ]
    },
    {
      "cell_type": "markdown",
      "source": [
        "# Данный код предназначен для проверки первой гипотезы, от основного метода отличается тем, что при вычислении разнообразия тем мы нормализуем данные с помощью меры энтропии Шеннона"
      ],
      "metadata": {
        "id": "revNvb4iHzx-"
      }
    },
    {
      "cell_type": "markdown",
      "source": [
        "## Загрузка данных"
      ],
      "metadata": {
        "id": "zJCK_BxtISz7"
      }
    },
    {
      "cell_type": "code",
      "execution_count": null,
      "metadata": {
        "colab": {
          "base_uri": "https://localhost:8080/"
        },
        "id": "OYVWTgyD3EFE",
        "outputId": "85566765-70ca-465b-e1df-5681ac3dc309"
      },
      "outputs": [
        {
          "output_type": "stream",
          "name": "stdout",
          "text": [
            "Mounted at /content/drive\n"
          ]
        }
      ],
      "source": [
        "from google.colab import drive\n",
        "drive.mount('/content/drive')"
      ]
    },
    {
      "cell_type": "code",
      "source": [
        "import pandas as pd\n",
        "import scipy.stats as sts"
      ],
      "metadata": {
        "id": "IJlng4iQ_T5-"
      },
      "execution_count": null,
      "outputs": []
    },
    {
      "cell_type": "code",
      "source": [
        "fname = '/content/drive/MyDrive/___МАГИСТРАТУРА/телеграммы/TELEGRAMMA/python/БД все телеграммы_1.xlsx'\n",
        "df = pd.read_excel(fname)"
      ],
      "metadata": {
        "id": "FWS1EWV5_g8Q"
      },
      "execution_count": null,
      "outputs": []
    },
    {
      "cell_type": "markdown",
      "source": [
        "## Присвоение каждой телеграмме десятилетия (код также описан в программе, проверяющей первую гипотезу, и полностью повторяет её строение)"
      ],
      "metadata": {
        "id": "rFxQbBgoIXPn"
      }
    },
    {
      "cell_type": "code",
      "source": [
        "def decade(date):\n",
        "  if len(date.split('.')) !=3:\n",
        "      year = 'xxxx'\n",
        "  else:\n",
        "      year = date.split('.')[2][:3]\n",
        "  return year"
      ],
      "metadata": {
        "id": "42XyDD98QOPo"
      },
      "execution_count": null,
      "outputs": []
    },
    {
      "cell_type": "code",
      "source": [
        "df['decade'] = df['date'].apply(decade)"
      ],
      "metadata": {
        "id": "vqrOQXs1QMFl"
      },
      "execution_count": null,
      "outputs": []
    },
    {
      "cell_type": "code",
      "source": [
        "def nonans(t):\n",
        "  if type(t) is float:\n",
        "    t = 'нет данных'\n",
        "  return t"
      ],
      "metadata": {
        "id": "7gE2DEKcazdA"
      },
      "execution_count": null,
      "outputs": []
    },
    {
      "cell_type": "code",
      "source": [
        "decthem = df[['decade', 'theme']]\n",
        "decthem['theme_corr'] = decthem['theme'].apply(nonans)\n",
        "themes = decthem['theme_corr']"
      ],
      "metadata": {
        "colab": {
          "base_uri": "https://localhost:8080/"
        },
        "id": "j_-2uR4QZpKA",
        "outputId": "7818f9cb-e828-4aaf-a568-eddd8d56e6f6"
      },
      "execution_count": null,
      "outputs": [
        {
          "output_type": "stream",
          "name": "stderr",
          "text": [
            "/usr/local/lib/python3.7/dist-packages/ipykernel_launcher.py:2: SettingWithCopyWarning: \n",
            "A value is trying to be set on a copy of a slice from a DataFrame.\n",
            "Try using .loc[row_indexer,col_indexer] = value instead\n",
            "\n",
            "See the caveats in the documentation: https://pandas.pydata.org/pandas-docs/stable/user_guide/indexing.html#returning-a-view-versus-a-copy\n",
            "  \n"
          ]
        }
      ]
    },
    {
      "cell_type": "code",
      "source": [
        "topics = []\n",
        "for theme in themes:\n",
        "  theme = str(theme).split(', ')\n",
        "  for t in theme:\n",
        "    if t not in topics:\n",
        "      topics.append(t)\n",
        "for topic in topics:\n",
        "  tt = []\n",
        "  for theme in themes:\n",
        "    if topic in theme:\n",
        "      tt.append(1)\n",
        "    else:\n",
        "      tt.append(0)\n",
        "  decthem[topic] = tt"
      ],
      "metadata": {
        "colab": {
          "base_uri": "https://localhost:8080/"
        },
        "id": "qwvQfRcha3rQ",
        "outputId": "6deef71d-4083-49ef-c765-a4fcc3a94c42"
      },
      "execution_count": null,
      "outputs": [
        {
          "output_type": "stream",
          "name": "stderr",
          "text": [
            "/usr/local/lib/python3.7/dist-packages/ipykernel_launcher.py:14: SettingWithCopyWarning: \n",
            "A value is trying to be set on a copy of a slice from a DataFrame.\n",
            "Try using .loc[row_indexer,col_indexer] = value instead\n",
            "\n",
            "See the caveats in the documentation: https://pandas.pydata.org/pandas-docs/stable/user_guide/indexing.html#returning-a-view-versus-a-copy\n",
            "  \n"
          ]
        }
      ]
    },
    {
      "cell_type": "code",
      "source": [
        "results = decthem[topics].groupby(decthem['decade']).sum()"
      ],
      "metadata": {
        "id": "8rSaoJ7acJLf"
      },
      "execution_count": null,
      "outputs": []
    },
    {
      "cell_type": "code",
      "source": [
        "results = results.transpose()"
      ],
      "metadata": {
        "id": "Uz_n7ns6dm42"
      },
      "execution_count": null,
      "outputs": []
    },
    {
      "cell_type": "markdown",
      "source": [
        "## Подсчёт энтропии Шеннона"
      ],
      "metadata": {
        "id": "ip2ul4yJIvBQ"
      }
    },
    {
      "cell_type": "code",
      "execution_count": null,
      "metadata": {
        "id": "X1-qdB-w3Vyz"
      },
      "outputs": [],
      "source": [
        "def shannons_entropy(data):\n",
        "  pd_series = pd.Series(data)\n",
        "  counts = pd_series.value_counts()\n",
        "  entropy = sts.entropy(counts)\n",
        "  #print(entropy)\n",
        "  return(entropy)"
      ]
    },
    {
      "cell_type": "code",
      "source": [
        "dc = {}\n",
        "X = []\n",
        "Y = []\n",
        "for column in results.columns:\n",
        "  a = []\n",
        "  for topic in topics:\n",
        "    i = 0 \n",
        "    n = results[column][topic] \n",
        "    if n > 0:\n",
        "      while i < n:\n",
        "        a.append(topic)\n",
        "        i+=1\n",
        "  #dc[column] = shannons_entropy(a)\n",
        "  X.append(column)\n",
        "  Y.append(shannons_entropy(a))\n",
        "  #print(a)"
      ],
      "metadata": {
        "id": "fV3G06wSgGSr"
      },
      "execution_count": null,
      "outputs": []
    },
    {
      "cell_type": "code",
      "source": [
        "import matplotlib.pyplot as plt\n",
        "import matplotlib as mpl"
      ],
      "metadata": {
        "id": "VL8EX4pii4EX"
      },
      "execution_count": null,
      "outputs": []
    },
    {
      "cell_type": "code",
      "source": [
        "plt.rcParams[\"figure.figsize\"] = (10,5.5)\n",
        "fig, ax = plt.subplots()\n",
        "ax.bar(X,Y, width = 0.5, color = '#F69BAC')\n",
        "ax.set_title('Энтропия Шеннона для каждого десятилетия')\n",
        "fig.show()\n",
        "plt.savefig('/content/drive/MyDrive/___МАГИСТРАТУРА/телеграммы/TELEGRAMMA/python/shannon')"
      ],
      "metadata": {
        "colab": {
          "base_uri": "https://localhost:8080/",
          "height": 363
        },
        "id": "rZ3jwvqKfGo2",
        "outputId": "49f50772-d27d-4b23-a36a-31c9dbca7e77"
      },
      "execution_count": null,
      "outputs": [
        {
          "output_type": "display_data",
          "data": {
            "text/plain": [
              "<Figure size 720x396 with 1 Axes>"
            ],
            "image/png": "[encoded data removed]"
          },
          "metadata": {
            "needs_background": "light"
          }
        }
      ]
    }
  ]
}