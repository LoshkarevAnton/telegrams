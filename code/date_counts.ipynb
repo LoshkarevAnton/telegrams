{
  "nbformat": 4,
  "nbformat_minor": 0,
  "metadata": {
    "colab": {
      "name": "date_counts",
      "provenance": [],
      "authorship_tag": "ABX9TyNwmJIYflES8hm1fKzlr0qR",
      "include_colab_link": true
    },
    "kernelspec": {
      "name": "python3",
      "display_name": "Python 3"
    },
    "language_info": {
      "name": "python"
    }
  },
  "cells": [
    {
      "cell_type": "markdown",
      "metadata": {
        "id": "view-in-github",
        "colab_type": "text"
      },
      "source": [
        "<a href=\"https://colab.research.google.com/github/marinanastas/telegrams/blob/main/code/date_counts.ipynb\" target=\"_parent\"><img src=\"https://colab.research.google.com/assets/colab-badge.svg\" alt=\"Open In Colab\"/></a>"
      ]
    },
    {
      "cell_type": "markdown",
      "source": [
        "# Данный код использовался для подсчёта статистики датировки телеграмм"
      ],
      "metadata": {
        "id": "KTn5Rx5HJSO7"
      }
    },
    {
      "cell_type": "code",
      "execution_count": null,
      "metadata": {
        "id": "SZJ8muT09rbZ",
        "colab": {
          "base_uri": "https://localhost:8080/"
        },
        "outputId": "f71c4acd-f7b3-4049-f8c5-0a8c62ddf9fc"
      },
      "outputs": [
        {
          "output_type": "stream",
          "name": "stdout",
          "text": [
            "Drive already mounted at /content/drive; to attempt to forcibly remount, call drive.mount(\"/content/drive\", force_remount=True).\n"
          ]
        }
      ],
      "source": [
        "from google.colab import drive\n",
        "drive.mount('/content/drive')"
      ]
    },
    {
      "cell_type": "code",
      "source": [
        "import pandas as pd"
      ],
      "metadata": {
        "id": "AdKCFBN9ATD1"
      },
      "execution_count": null,
      "outputs": []
    },
    {
      "cell_type": "code",
      "source": [
        "fname = '/content/drive/MyDrive/___МАГИСТРАТУРА/телеграммы/TELEGRAMMA/python/telegrams_alldates.xlsx'\n",
        "df = pd.read_excel(fname)"
      ],
      "metadata": {
        "id": "T6rZg1UjAU0e"
      },
      "execution_count": null,
      "outputs": []
    },
    {
      "cell_type": "code",
      "source": [
        "def year_assignment(date):\n",
        "  year = 'xxxx'\n",
        "  date = str(date)\n",
        "  if len(date.split('.')) !=3:\n",
        "   year = 'xxxx'\n",
        "  else:\n",
        "    year = date.split('.')[2]\n",
        "  return year"
      ],
      "metadata": {
        "id": "rkpR-pL0AYsB"
      },
      "execution_count": null,
      "outputs": []
    },
    {
      "cell_type": "code",
      "source": [
        "def day_month_assignment(date):\n",
        "  dmonth = 'xxxx'\n",
        "  date = str(date)\n",
        "  if len(date.split('.')) !=3:\n",
        "   dmonth = 'xxxx'\n",
        "  else:\n",
        "    dmonth = \".\".join([date.split('.')[0], date.split('.')[1]])\n",
        "  return dmonth"
      ],
      "metadata": {
        "id": "msiXzGwbBYc2"
      },
      "execution_count": null,
      "outputs": []
    },
    {
      "cell_type": "code",
      "source": [
        "df['year'] = df['date'].apply(year_assignment) \n",
        "df['dmonth'] = df['date'].apply(day_month_assignment) \n",
        "df['dmonth']"
      ],
      "metadata": {
        "colab": {
          "base_uri": "https://localhost:8080/"
        },
        "id": "fLFkjOIOAiuB",
        "outputId": "e64ec61d-6ffa-4f81-e8be-f5edbfb46084"
      },
      "execution_count": null,
      "outputs": [
        {
          "output_type": "execute_result",
          "data": {
            "text/plain": [
              "0        xx.xx\n",
              "1        xx.xx\n",
              "2        xx.xx\n",
              "3        xx.xx\n",
              "4        xx.xx\n",
              "         ...  \n",
              "93260    xx.xx\n",
              "93261    xx.xx\n",
              "93262    xx.xx\n",
              "93263    xx.xx\n",
              "93264    xx.10\n",
              "Name: dmonth, Length: 93265, dtype: object"
            ]
          },
          "metadata": {},
          "execution_count": 49
        }
      ]
    },
    {
      "cell_type": "code",
      "source": [
        "round(len(df[df['year'] != 'xxxx'])/len(df)*100, 2)\n",
        "#round(len(df[df['dmonth'] != 'xx.xx'])/len(df)*100, 2)\n",
        "#round(len(df[df['dmonth'] != 'xx.xx'])/len(df)*100, 2)"
      ],
      "metadata": {
        "colab": {
          "base_uri": "https://localhost:8080/"
        },
        "id": "BbsZKRrqAnOu",
        "outputId": "a9b6777d-8789-41d2-807a-bbfb16153a21"
      },
      "execution_count": null,
      "outputs": [
        {
          "output_type": "execute_result",
          "data": {
            "text/plain": [
              "91.33"
            ]
          },
          "metadata": {},
          "execution_count": 50
        }
      ]
    },
    {
      "cell_type": "code",
      "source": [
        "trops = df[df['year'] != 'xxxx']"
      ],
      "metadata": {
        "id": "-hv7CFlTEkZ3"
      },
      "execution_count": null,
      "outputs": []
    }
  ]
}