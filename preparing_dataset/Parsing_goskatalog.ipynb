{
  "cells": [
    {
      "cell_type": "markdown",
      "metadata": {},
      "source": [
        "*1. Нормализация данных*"
      ]
    },
    {
      "cell_type": "code",
      "execution_count": 1,
      "metadata": {
        "id": "1KYxzmO-pRzb"
      },
      "outputs": [],
      "source": [
        "import json\n",
        "import pandas as pd"
      ]
    },
    {
      "cell_type": "code",
      "execution_count": 2,
      "metadata": {
        "id": "9bpK2nc_pae0"
      },
      "outputs": [],
      "source": [
        "with open('response_example.json', 'r+', encoding='utf-8') as f:\n",
        "    data = json.loads(f.read())"
      ]
    },
    {
      "cell_type": "code",
      "execution_count": 3,
      "metadata": {
        "id": "2zHo_ZU1zIpc"
      },
      "outputs": [],
      "source": [
        "some_list = []\n",
        "for i in data[\"data\"]:\n",
        "    inner_data = i.get(\"data\")\n",
        "    new_data = {\n",
        "        \"ID Gov\": inner_data.get(\"id\"),\n",
        "        \"Ссылка\": [_.get(\"url\") for _ in inner_data.get(\"images\", [])],\n",
        "        \"Название\": inner_data.get(\"name\"),\n",
        "        \"Место отправления\": inner_data.get(\"productionPlace\"),\n",
        "        \"Место получения\": inner_data.get(\"findPlace\"),\n",
        "        \"Описание\": inner_data.get(\"description\"),\n",
        "        \"Дата\": inner_data.get(\"periodStr\"),\n",
        "        \"Вид бланка\": inner_data.get(\"technologies\", []),\n",
        "    }    \n",
        "    some_list.append(new_data)"
      ]
    },
    {
      "cell_type": "code",
      "execution_count": 4,
      "metadata": {
        "id": "3_MuKEm9vW8R"
      },
      "outputs": [],
      "source": [
        "telegrams = pd.DataFrame(some_list)\n",
        "telegrams.to_excel(\"./telegrams.xlsx\")"
      ]
    },
    {
      "cell_type": "code",
      "execution_count": 5,
      "metadata": {},
      "outputs": [],
      "source": [
        "df = pd.read_excel('./telegrams.xlsx')\n",
        "df = df.drop(df.columns[0], axis=1)"
      ]
    },
    {
      "cell_type": "code",
      "execution_count": 6,
      "metadata": {
        "id": "hdzTl4AY-iqD"
      },
      "outputs": [],
      "source": [
        "# присваиваем телеграммам ID\n",
        "\n",
        "id = []\n",
        "for i in range(55,1055):\n",
        "    id.append(\"tg\" + str(\"%05d\" % (i,)))\n",
        "df.insert(0, \"ID\", id)\n",
        "\n",
        "# удаляем лишние \"телеграммы\" по айдишкам\n",
        "\n",
        "id_to_drop = ['tg00302', 'tg00352', 'tg00355', 'tg00463', 'tg00484', 'tg00577', 'tg00763', 'tg00766', 'tg00837', 'tg00943', 'tg00968']\n",
        "for index, row in df.iterrows():\n",
        "    if row[\"ID\"] in id_to_drop:\n",
        "        df = df.drop(index)\n",
        "\n",
        "# переприсваиваем ID без удалённых телеграмм\n",
        "\n",
        "new_id = []\n",
        "for i in range(55,1044):\n",
        "    new_id.append(\"tg\" + str(\"%05d\" % (i,)))\n",
        "df = df.drop(df.columns[0], axis=1)\n",
        "df.insert(0, \"ID\", new_id)"
      ]
    },
    {
      "cell_type": "code",
      "execution_count": 7,
      "metadata": {},
      "outputs": [],
      "source": [
        "# заполняем все пустые строки NA, убираем лишние символы\n",
        "\n",
        "df = df.fillna(\"NA\")\n",
        "df = df.replace(\"\\[\\]\", \"NA\", regex=True)\n",
        "df = df.replace(\"[\\['\\]]\", \"\", regex=True)"
      ]
    },
    {
      "cell_type": "code",
      "execution_count": 8,
      "metadata": {},
      "outputs": [],
      "source": [
        "# вставляем поле \"текст\"\n",
        "\n",
        "df.insert(2, \"Текст\", \"\")\n",
        "\n",
        "for index, row in df.iterrows():\n",
        "    if row[\"Ссылка\"] == \"NA\":\n",
        "        row[\"Текст\"] = \"NA\""
      ]
    },
    {
      "cell_type": "code",
      "execution_count": 9,
      "metadata": {},
      "outputs": [],
      "source": [
        "df.to_excel(\"./new_telegrams.xlsx\")"
      ]
    },
    {
      "cell_type": "markdown",
      "metadata": {},
      "source": [
        "*2. Named Entity Recognition*"
      ]
    },
    {
      "cell_type": "code",
      "execution_count": 5,
      "metadata": {},
      "outputs": [],
      "source": [
        "import re\n",
        "import spacy\n",
        "import pymorphy2"
      ]
    },
    {
      "cell_type": "code",
      "execution_count": 6,
      "metadata": {},
      "outputs": [],
      "source": [
        "morph = pymorphy2.MorphAnalyzer(lang='ru')\n",
        "nlp = spacy.load(\"ru_core_news_md\")"
      ]
    },
    {
      "cell_type": "code",
      "execution_count": null,
      "metadata": {},
      "outputs": [],
      "source": [
        "# вставляем колонки \"отправитель\" и \"получатель\"\n",
        "\n",
        "df.insert(4, \"Отправитель\", \"\")\n",
        "df.insert(5, \"Получатель\", \"\")"
      ]
    },
    {
      "cell_type": "code",
      "execution_count": null,
      "metadata": {},
      "outputs": [],
      "source": [
        "for index, row in df.iterrows():\n",
        "    # убираем лишние слэши и скобки (в них были инициалы, что мешало)\n",
        "    sub_1 = re.sub(r\"[\\/\\[\\]]\", r\"\", row[\"Название\"])\n",
        "    # убираем пробелы между инициалами, так лучше работает NER\n",
        "    sub_2 = re.sub(r\"([А-Я]{1}\\.)(\\s)([А-Я]{1}\\.)\", r\"\\1\\3\", sub_1)\n",
        "    # чистим двойные пробелы\n",
        "    sub_3 = re.sub(r\"(\\s)(\\s)\", r\"\\1\", sub_2)\n",
        "    # убираем слово \"телеграмма\" и возможную пунктуацию после него (опять же, так лучше парсится)\n",
        "    sub_4 = re.sub(r\"т?Телеграмма\\.?,?\\s?\", r\"\", sub_3)\n",
        "    doc = nlp(sub_4)\n",
        "    for ent in doc.ents:\n",
        "        p = morph.parse(ent.text)[0]\n",
        "        # ищем персоналии в именительном падеже, лемматизируем и делаем их с большой буквы после лемматизации\n",
        "        if ent.label_ == \"PER\" and p.tag.case == \"nomn\":\n",
        "            row[\"Отправитель\"] = morph.parse(ent.text)[0].normal_form.title()\n",
        "        # ищем персоналии в родительном падеже\n",
        "        elif ent.label_ == \"PER\" and p.tag.case == \"gent\":\n",
        "            row[\"Отправитель\"] = morph.parse(ent.text)[0].normal_form.title()\n",
        "        # ищем организации в родительном падеже\n",
        "        elif ent.label_ == \"ORG\" and p.tag.case == \"gent\":\n",
        "            row[\"Отправитель\"] = morph.parse(ent.text)[0].normal_form.title()\n",
        "        # ищем персоналии в дательном падеже\n",
        "        elif ent.label_ == \"PER\" and p.tag.case == \"datv\":\n",
        "            row[\"Получатель\"] = morph.parse(ent.text)[0].normal_form.title()\n",
        "        # ищем организации в дательном падеже\n",
        "        elif ent.label_ == \"ORG\" and p.tag.case == \"datv\":\n",
        "            row[\"Получатель\"] = morph.parse(ent.text)[0].normal_form.title()\n",
        "\n",
        "    # меняем местами фамилию и инициалы\n",
        "\n",
        "    row[\"Отправитель\"] = re.sub(r\"([А-ЯЁ]{1}\\.[А-ЯЁ]{1}\\.)(\\s)([А-я]+)\", r\"\\3\\2\\1\", row[\"Отправитель\"])\n",
        "    row[\"Получатель\"] = re.sub(r\"([А-ЯЁ]{1}\\.[А-ЯЁ]{1}\\.)(\\s)([А-я]+)\", r\"\\3\\2\\1\", row[\"Получатель\"])\n",
        "\n",
        "# заполняем все пустые ячейки NA\n",
        "\n",
        "df = df.fillna(\"NA\")"
      ]
    },
    {
      "cell_type": "code",
      "execution_count": null,
      "metadata": {},
      "outputs": [],
      "source": [
        "df.to_excel(\"./new_telegrams.xlsx\")"
      ]
    },
    {
      "cell_type": "markdown",
      "metadata": {},
      "source": [
        "*3. Проставление других параметров в таблицу*"
      ]
    },
    {
      "cell_type": "code",
      "execution_count": null,
      "metadata": {},
      "outputs": [],
      "source": [
        "df.head()"
      ]
    },
    {
      "cell_type": "code",
      "execution_count": null,
      "metadata": {},
      "outputs": [],
      "source": [
        "df.insert(11, \"Вид телеграммы\", \"\")\n",
        "df.insert(12, \"Тема\", \"\")"
      ]
    },
    {
      "cell_type": "code",
      "execution_count": null,
      "metadata": {},
      "outputs": [],
      "source": [
        "for index, row in df.iterrows():\n",
        "    row[\"Название\"].casefold()\n",
        "    row[\"Вид бланка\"].casefold()\n",
        "\n",
        "    if \"присвоени\" in row[\"Название\"]:\n",
        "        row[\"Тема\"] = \"присвоение звания\"\n",
        "    elif \"приглашение\" in row[\"Название\"]:\n",
        "        row[\"Тема\"] = \"приглашение\"\n",
        "    elif \"новогод\" or \"новым годом\" in row[\"Название\"]:\n",
        "        row[\"Тема\"] = \"новый год\"\n",
        "\n",
        "    if \"правительственная\" in row[\"Название\"]:\n",
        "        row[\"Вид телеграммы\"] = \"правительственная\"\n",
        "    elif \"транзитная\" in row[\"Название\"]:\n",
        "        row[\"Вид телеграммы\"] = \"транзитная\"\n",
        "    elif \"срочная\" in row[\"Название\"]:\n",
        "        row[\"Вид телеграммы\"] = \"срочная\"\n",
        "    elif \"поздравительная\" in row[\"Название\"]:\n",
        "        row[\"Вид телеграммы\"] = \"поздравительная\"\n",
        "    else:\n",
        "        row[\"Вид телеграммы\"] = \"обычная\"\n",
        "\n",
        "    if \"машинопись\" in row[\"Вид бланка\"]:\n",
        "        row[\"Вид бланка\"] = \"печатный\"\n",
        "    elif \"телеграфный бланк\" in row[\"Вид бланка\"]:\n",
        "        row[\"Вид бланка\"] = \"печатный\"\n",
        "    elif \"бумага газетная\" in row[\"Вид бланка\"]:\n",
        "        row[\"Вид бланка\"] = \"печатный\"\n",
        "    elif \"фотобумага\" in row[\"Вид бланка\"]:\n",
        "        row[\"Вид бланка\"] = \"открытка\"\n",
        "    elif \"рукопись\" in row[\"Вид бланка\"]:\n",
        "        row[\"Вид бланка\"] = \"рукопись\"\n"
      ]
    },
    {
      "cell_type": "code",
      "execution_count": null,
      "metadata": {},
      "outputs": [],
      "source": [
        "df.to_excel(\"./new_telegrams.xlsx\")"
      ]
    }
  ],
  "metadata": {
    "colab": {
      "collapsed_sections": [],
      "name": "Parsing_goskatalog.ipynb",
      "provenance": []
    },
    "interpreter": {
      "hash": "26eed54254f10074ca438a184fd10ba8f3dc9d0d1223b227db26dd7141cb513b"
    },
    "kernelspec": {
      "display_name": "Python 3.9.6 64-bit",
      "language": "python",
      "name": "python3"
    },
    "language_info": {
      "codemirror_mode": {
        "name": "ipython",
        "version": 3
      },
      "file_extension": ".py",
      "mimetype": "text/x-python",
      "name": "python",
      "nbconvert_exporter": "python",
      "pygments_lexer": "ipython3",
      "version": "3.9.6"
    }
  },
  "nbformat": 4,
  "nbformat_minor": 0
}
